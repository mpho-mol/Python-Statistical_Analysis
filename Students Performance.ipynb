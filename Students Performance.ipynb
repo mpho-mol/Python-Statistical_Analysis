{
 "cells": [
  {
   "cell_type": "markdown",
   "id": "5141e353",
   "metadata": {},
   "source": [
    "## Data Prepocessing"
   ]
  },
  {
   "cell_type": "code",
   "execution_count": 1,
   "id": "26accb89",
   "metadata": {},
   "outputs": [],
   "source": [
    "# Import the relevant modules\n",
    "import pandas as pd\n",
    "import matplotlib.pyplot as plt\n",
    "import numpy as np\n",
    "import seaborn as sns\n",
    "from scipy.stats import f_oneway, chi2_contingency, ttest_1samp, ttest_ind"
   ]
  },
  {
   "cell_type": "code",
   "execution_count": 2,
   "id": "81970ec1",
   "metadata": {},
   "outputs": [],
   "source": [
    "# Load dataset into a DataFrame\n",
    "df = pd.read_csv(\"StudentsPerformance.csv\")"
   ]
  },
  {
   "cell_type": "code",
   "execution_count": 3,
   "id": "1799e75a",
   "metadata": {},
   "outputs": [
    {
     "data": {
      "text/html": [
       "<div>\n",
       "<style scoped>\n",
       "    .dataframe tbody tr th:only-of-type {\n",
       "        vertical-align: middle;\n",
       "    }\n",
       "\n",
       "    .dataframe tbody tr th {\n",
       "        vertical-align: top;\n",
       "    }\n",
       "\n",
       "    .dataframe thead th {\n",
       "        text-align: right;\n",
       "    }\n",
       "</style>\n",
       "<table border=\"1\" class=\"dataframe\">\n",
       "  <thead>\n",
       "    <tr style=\"text-align: right;\">\n",
       "      <th></th>\n",
       "      <th>gender</th>\n",
       "      <th>race/ethnicity</th>\n",
       "      <th>parental level of education</th>\n",
       "      <th>lunch</th>\n",
       "      <th>test preparation course</th>\n",
       "      <th>math score</th>\n",
       "      <th>reading score</th>\n",
       "      <th>writing score</th>\n",
       "    </tr>\n",
       "  </thead>\n",
       "  <tbody>\n",
       "    <tr>\n",
       "      <th>0</th>\n",
       "      <td>female</td>\n",
       "      <td>group B</td>\n",
       "      <td>bachelor's degree</td>\n",
       "      <td>standard</td>\n",
       "      <td>none</td>\n",
       "      <td>72</td>\n",
       "      <td>72</td>\n",
       "      <td>74</td>\n",
       "    </tr>\n",
       "    <tr>\n",
       "      <th>1</th>\n",
       "      <td>female</td>\n",
       "      <td>group C</td>\n",
       "      <td>some college</td>\n",
       "      <td>standard</td>\n",
       "      <td>completed</td>\n",
       "      <td>69</td>\n",
       "      <td>90</td>\n",
       "      <td>88</td>\n",
       "    </tr>\n",
       "    <tr>\n",
       "      <th>2</th>\n",
       "      <td>female</td>\n",
       "      <td>group B</td>\n",
       "      <td>master's degree</td>\n",
       "      <td>standard</td>\n",
       "      <td>none</td>\n",
       "      <td>90</td>\n",
       "      <td>95</td>\n",
       "      <td>93</td>\n",
       "    </tr>\n",
       "    <tr>\n",
       "      <th>3</th>\n",
       "      <td>male</td>\n",
       "      <td>group A</td>\n",
       "      <td>associate's degree</td>\n",
       "      <td>free/reduced</td>\n",
       "      <td>none</td>\n",
       "      <td>47</td>\n",
       "      <td>57</td>\n",
       "      <td>44</td>\n",
       "    </tr>\n",
       "    <tr>\n",
       "      <th>4</th>\n",
       "      <td>male</td>\n",
       "      <td>group C</td>\n",
       "      <td>some college</td>\n",
       "      <td>standard</td>\n",
       "      <td>none</td>\n",
       "      <td>76</td>\n",
       "      <td>78</td>\n",
       "      <td>75</td>\n",
       "    </tr>\n",
       "  </tbody>\n",
       "</table>\n",
       "</div>"
      ],
      "text/plain": [
       "   gender race/ethnicity parental level of education         lunch  \\\n",
       "0  female        group B           bachelor's degree      standard   \n",
       "1  female        group C                some college      standard   \n",
       "2  female        group B             master's degree      standard   \n",
       "3    male        group A          associate's degree  free/reduced   \n",
       "4    male        group C                some college      standard   \n",
       "\n",
       "  test preparation course  math score  reading score  writing score  \n",
       "0                    none          72             72             74  \n",
       "1               completed          69             90             88  \n",
       "2                    none          90             95             93  \n",
       "3                    none          47             57             44  \n",
       "4                    none          76             78             75  "
      ]
     },
     "execution_count": 3,
     "metadata": {},
     "output_type": "execute_result"
    }
   ],
   "source": [
    "# Display the first five entries of the data\n",
    "df.head()"
   ]
  },
  {
   "cell_type": "code",
   "execution_count": 4,
   "id": "6ea6d586",
   "metadata": {},
   "outputs": [
    {
     "data": {
      "text/plain": [
       "(1000, 8)"
      ]
     },
     "execution_count": 4,
     "metadata": {},
     "output_type": "execute_result"
    }
   ],
   "source": [
    "# Size of the data\n",
    "df.shape"
   ]
  },
  {
   "cell_type": "code",
   "execution_count": 5,
   "id": "9e81738b",
   "metadata": {},
   "outputs": [
    {
     "name": "stdout",
     "output_type": "stream",
     "text": [
      "<class 'pandas.core.frame.DataFrame'>\n",
      "RangeIndex: 1000 entries, 0 to 999\n",
      "Data columns (total 8 columns):\n",
      " #   Column                       Non-Null Count  Dtype \n",
      "---  ------                       --------------  ----- \n",
      " 0   gender                       1000 non-null   object\n",
      " 1   race/ethnicity               1000 non-null   object\n",
      " 2   parental level of education  1000 non-null   object\n",
      " 3   lunch                        1000 non-null   object\n",
      " 4   test preparation course      1000 non-null   object\n",
      " 5   math score                   1000 non-null   int64 \n",
      " 6   reading score                1000 non-null   int64 \n",
      " 7   writing score                1000 non-null   int64 \n",
      "dtypes: int64(3), object(5)\n",
      "memory usage: 62.6+ KB\n"
     ]
    }
   ],
   "source": [
    "# Explore each variable and its data type\n",
    "df.info()"
   ]
  },
  {
   "cell_type": "markdown",
   "id": "07db7e63",
   "metadata": {},
   "source": [
    "## Measures of Central Tendency & Dispersion"
   ]
  },
  {
   "cell_type": "code",
   "execution_count": 6,
   "id": "6a2ea1a9",
   "metadata": {},
   "outputs": [
    {
     "data": {
      "text/html": [
       "<div>\n",
       "<style scoped>\n",
       "    .dataframe tbody tr th:only-of-type {\n",
       "        vertical-align: middle;\n",
       "    }\n",
       "\n",
       "    .dataframe tbody tr th {\n",
       "        vertical-align: top;\n",
       "    }\n",
       "\n",
       "    .dataframe thead th {\n",
       "        text-align: right;\n",
       "    }\n",
       "</style>\n",
       "<table border=\"1\" class=\"dataframe\">\n",
       "  <thead>\n",
       "    <tr style=\"text-align: right;\">\n",
       "      <th></th>\n",
       "      <th>math score</th>\n",
       "      <th>reading score</th>\n",
       "      <th>writing score</th>\n",
       "    </tr>\n",
       "  </thead>\n",
       "  <tbody>\n",
       "    <tr>\n",
       "      <th>count</th>\n",
       "      <td>1000.00000</td>\n",
       "      <td>1000.000000</td>\n",
       "      <td>1000.000000</td>\n",
       "    </tr>\n",
       "    <tr>\n",
       "      <th>mean</th>\n",
       "      <td>66.08900</td>\n",
       "      <td>69.169000</td>\n",
       "      <td>68.054000</td>\n",
       "    </tr>\n",
       "    <tr>\n",
       "      <th>std</th>\n",
       "      <td>15.16308</td>\n",
       "      <td>14.600192</td>\n",
       "      <td>15.195657</td>\n",
       "    </tr>\n",
       "    <tr>\n",
       "      <th>min</th>\n",
       "      <td>0.00000</td>\n",
       "      <td>17.000000</td>\n",
       "      <td>10.000000</td>\n",
       "    </tr>\n",
       "    <tr>\n",
       "      <th>25%</th>\n",
       "      <td>57.00000</td>\n",
       "      <td>59.000000</td>\n",
       "      <td>57.750000</td>\n",
       "    </tr>\n",
       "    <tr>\n",
       "      <th>50%</th>\n",
       "      <td>66.00000</td>\n",
       "      <td>70.000000</td>\n",
       "      <td>69.000000</td>\n",
       "    </tr>\n",
       "    <tr>\n",
       "      <th>75%</th>\n",
       "      <td>77.00000</td>\n",
       "      <td>79.000000</td>\n",
       "      <td>79.000000</td>\n",
       "    </tr>\n",
       "    <tr>\n",
       "      <th>max</th>\n",
       "      <td>100.00000</td>\n",
       "      <td>100.000000</td>\n",
       "      <td>100.000000</td>\n",
       "    </tr>\n",
       "  </tbody>\n",
       "</table>\n",
       "</div>"
      ],
      "text/plain": [
       "       math score  reading score  writing score\n",
       "count  1000.00000    1000.000000    1000.000000\n",
       "mean     66.08900      69.169000      68.054000\n",
       "std      15.16308      14.600192      15.195657\n",
       "min       0.00000      17.000000      10.000000\n",
       "25%      57.00000      59.000000      57.750000\n",
       "50%      66.00000      70.000000      69.000000\n",
       "75%      77.00000      79.000000      79.000000\n",
       "max     100.00000     100.000000     100.000000"
      ]
     },
     "execution_count": 6,
     "metadata": {},
     "output_type": "execute_result"
    }
   ],
   "source": [
    "# Explore the mean and standard deviation of numerical variables\n",
    "df.describe()"
   ]
  },
  {
   "cell_type": "markdown",
   "id": "649da997",
   "metadata": {},
   "source": [
    "## Hypothesis Testing"
   ]
  },
  {
   "cell_type": "markdown",
   "id": "12090e38",
   "metadata": {},
   "source": [
    "Hypothesis testing is a statistical technique that tests whether a hypothesis made about a sample or population is either true or false or make inferences and conclusions about a population based on a data sample. The null hypothesis, Ho, states that there is no significant difference between the population parameter and a hypothesised value. The alternative hypothesis, Ha, represents the claim that you want to test. Asignificance level is selected which represents the prpobability of making a Type I error, which is rejecting the null hypothesis when it is true. In this anaysis, the significnce chosen is 0.05. That is, for a given hypothesis, if the p-value is less than 0.05, then the null hypothesis is rejected."
   ]
  },
  {
   "cell_type": "markdown",
   "id": "dff43d80",
   "metadata": {},
   "source": [
    "## Hypothesis 1\n",
    "There is no significant disparity between a student's performance in any skills - reading, writing or math.\n",
    "\n",
    "Ho - There is no difference in the students' performance between reading, writing and math skills.\n",
    "\n",
    "Ha - There is a difference in the students' performance between reading, writing and math skills.\n",
    "\n",
    "A one-way ANOVA test is used to test the hypothesis."
   ]
  },
  {
   "cell_type": "code",
   "execution_count": 7,
   "id": "33cccf5a",
   "metadata": {},
   "outputs": [
    {
     "name": "stderr",
     "output_type": "stream",
     "text": [
      "C:\\Users\\User\\AppData\\Local\\Temp\\ipykernel_14600\\997824546.py:3: UserWarning: \n",
      "\n",
      "`distplot` is a deprecated function and will be removed in seaborn v0.14.0.\n",
      "\n",
      "Please adapt your code to use either `displot` (a figure-level function with\n",
      "similar flexibility) or `histplot` (an axes-level function for histograms).\n",
      "\n",
      "For a guide to updating your code to use the new functions, please see\n",
      "https://gist.github.com/mwaskom/de44147ed2974457ad6372750bbe5751\n",
      "\n",
      "  sns.distplot(df['math score'], label = 'math score')\n",
      "C:\\Users\\User\\AppData\\Local\\Temp\\ipykernel_14600\\997824546.py:4: UserWarning: \n",
      "\n",
      "`distplot` is a deprecated function and will be removed in seaborn v0.14.0.\n",
      "\n",
      "Please adapt your code to use either `displot` (a figure-level function with\n",
      "similar flexibility) or `histplot` (an axes-level function for histograms).\n",
      "\n",
      "For a guide to updating your code to use the new functions, please see\n",
      "https://gist.github.com/mwaskom/de44147ed2974457ad6372750bbe5751\n",
      "\n",
      "  sns.distplot(df['reading score'], label = 'reading score')\n",
      "C:\\Users\\User\\AppData\\Local\\Temp\\ipykernel_14600\\997824546.py:5: UserWarning: \n",
      "\n",
      "`distplot` is a deprecated function and will be removed in seaborn v0.14.0.\n",
      "\n",
      "Please adapt your code to use either `displot` (a figure-level function with\n",
      "similar flexibility) or `histplot` (an axes-level function for histograms).\n",
      "\n",
      "For a guide to updating your code to use the new functions, please see\n",
      "https://gist.github.com/mwaskom/de44147ed2974457ad6372750bbe5751\n",
      "\n",
      "  sns.distplot(df['writing score'], label = 'writing score')\n"
     ]
    },
    {
     "data": {
      "text/plain": [
       "<matplotlib.legend.Legend at 0x2e2c79dec50>"
      ]
     },
     "execution_count": 7,
     "metadata": {},
     "output_type": "execute_result"
    },
    {
     "data": {
      "image/png": "[encoded data removed]",
      "text/plain": [
       "<Figure size 1200x600 with 1 Axes>"
      ]
     },
     "metadata": {},
     "output_type": "display_data"
    }
   ],
   "source": [
    "# Plot comparative histograms of each variable\n",
    "plt.figure(figsize = (12,6))\n",
    "sns.distplot(df['math score'], label = 'math score')\n",
    "sns.distplot(df['reading score'], label = 'reading score')\n",
    "sns.distplot(df['writing score'], label = 'writing score')\n",
    "plt.legend()\n"
   ]
  },
  {
   "cell_type": "markdown",
   "id": "09e05734",
   "metadata": {},
   "source": [
    "Visually, it appears that all three samples have the same population mean thus no significant difference between them. The one-way ANOVA test will either support or invalidate this observation."
   ]
  },
  {
   "cell_type": "code",
   "execution_count": 8,
   "id": "0b7d8a7f",
   "metadata": {},
   "outputs": [
    {
     "name": "stdout",
     "output_type": "stream",
     "text": [
      "P-Value for One Way ANOVA Test is - 2.0701893192229333e-05\n"
     ]
    }
   ],
   "source": [
    "# Applying one way ANOVA test\n",
    "one_way_anova_test = f_oneway(df['reading score'], df['math score'], df['writing score'])\n",
    "print(f\"P-Value for One Way ANOVA Test is - {one_way_anova_test.pvalue}\")\n"
   ]
  },
  {
   "cell_type": "markdown",
   "id": "40dcadf9",
   "metadata": {},
   "source": [
    "The p-value in the hypothesis is 0.00207, which is much lower than the significance level of 0.05. It means that there is a difference between the scores of each skill, and the null hypothesis can be rejected. If the null hypothesis in the ANOVA test is rejected, then we conclude that at least one of the population means is different. However, information is not given about which means are different."
   ]
  },
  {
   "cell_type": "markdown",
   "id": "a8ac7574",
   "metadata": {},
   "source": [
    "## Hypothesis 2\n",
    "The students achieve a mean score of 70 or above on average.\n",
    "\n",
    "Ho - The overall performance of the students is 70 or above. \n",
    "\n",
    "Ha - The overall performance of the students is less than 70.\n",
    "\n",
    "The one-sample t-test (one-sided) to test this hypothesis as we want to compare the sample mean to that claimed to be the population's."
   ]
  },
  {
   "cell_type": "code",
   "execution_count": 10,
   "id": "cb899aba",
   "metadata": {},
   "outputs": [
    {
     "name": "stderr",
     "output_type": "stream",
     "text": [
      "C:\\Users\\User\\AppData\\Local\\Temp\\ipykernel_14600\\1105413806.py:5: UserWarning: \n",
      "\n",
      "`distplot` is a deprecated function and will be removed in seaborn v0.14.0.\n",
      "\n",
      "Please adapt your code to use either `displot` (a figure-level function with\n",
      "similar flexibility) or `histplot` (an axes-level function for histograms).\n",
      "\n",
      "For a guide to updating your code to use the new functions, please see\n",
      "https://gist.github.com/mwaskom/de44147ed2974457ad6372750bbe5751\n",
      "\n",
      "  sns.distplot(df['overall_performance'])\n"
     ]
    },
    {
     "data": {
      "text/plain": [
       "<Axes: xlabel='overall_performance', ylabel='Density'>"
      ]
     },
     "execution_count": 10,
     "metadata": {},
     "output_type": "execute_result"
    },
    {
     "data": {
      "image/png": "[encoded data removed]",
      "text/plain": [
       "<Figure size 1200x600 with 1 Axes>"
      ]
     },
     "metadata": {},
     "output_type": "display_data"
    }
   ],
   "source": [
    "# Histogram of overall performance\n",
    "df['overall_performance'] = (df['reading score'] + df['writing score'] + df['math score'])/3\n",
    "\n",
    "plt.figure(figsize = (12,6))\n",
    "sns.distplot(df['overall_performance'])"
   ]
  },
  {
   "cell_type": "markdown",
   "id": "f44d382e",
   "metadata": {},
   "source": [
    "The histogram above shows that the mean sample is approximately 67, and most of the values are spread around 50-90. The one sample t-test will confirm whether this is random or it is representative of the larger population."
   ]
  },
  {
   "cell_type": "code",
   "execution_count": 11,
   "id": "a182d8c8",
   "metadata": {},
   "outputs": [
    {
     "data": {
      "text/plain": [
       "TtestResult(statistic=-4.944665643928837, pvalue=8.942878479352005e-07, df=999)"
      ]
     },
     "execution_count": 11,
     "metadata": {},
     "output_type": "execute_result"
    }
   ],
   "source": [
    "# apply one sample t-test on the sample overall performance\n",
    "ttest_1samp(a = df['overall_performance'], popmean = 70)\n"
   ]
  },
  {
   "cell_type": "markdown",
   "id": "ea3b6773",
   "metadata": {},
   "source": [
    "As the observed p-value is much lower than the significance level, providing enough evidence to reject the null hypothesis in favor of the alternative hypothesis."
   ]
  },
  {
   "cell_type": "markdown",
   "id": "15f6d389",
   "metadata": {},
   "source": [
    "## Hypothesis 3\n",
    "There is no significant difference in the mean math scores of students who have taken test preparation and those who have not taken any test preparation.\n",
    " \n",
    "Ho -  There is no difference in students' math scores, whether or not they have taken test preparation.\n",
    "\n",
    "Ha -  There is a in students' math scores, depending on whether they have taken test preparation or not."
   ]
  },
  {
   "cell_type": "code",
   "execution_count": 12,
   "id": "db5bb01e",
   "metadata": {},
   "outputs": [
    {
     "name": "stdout",
     "output_type": "stream",
     "text": [
      "Mean Math Score of Students With Test Preparation is - 69.69553072625699\n",
      "Mean Math Score of Students Without Test Preparation is - 64.0778816199377\n"
     ]
    }
   ],
   "source": [
    "# Explore mean of both samples\n",
    "print('Mean Math Score of Students With Test Preparation is - {}'.format(df[df['test preparation course'] == 'completed']['math score'].mean()))\n",
    "print('Mean Math Score of Students Without Test Preparation is - {}'.format(df[df['test preparation course'] == 'none']['math score'].mean()))"
   ]
  },
  {
   "cell_type": "markdown",
   "id": "1125f0c7",
   "metadata": {},
   "source": [
    "The average math score is higher in the case of the students who have completed the test preparation course as shown above. A two-sample t-test to check whether this is by chance or whether these are statistically significant."
   ]
  },
  {
   "cell_type": "code",
   "execution_count": 13,
   "id": "6fd37fe7",
   "metadata": {},
   "outputs": [
    {
     "data": {
      "text/plain": [
       "Ttest_indResult(statistic=5.704616417349102, pvalue=1.5359134607147415e-08)"
      ]
     },
     "execution_count": 13,
     "metadata": {},
     "output_type": "execute_result"
    }
   ],
   "source": [
    "# apply two sample t-test\n",
    "ttest_ind(df[df['test preparation course'] == 'completed']['math score'], df[df['test preparation course'] == 'none']['math score'])\n"
   ]
  },
  {
   "cell_type": "markdown",
   "id": "a13facef",
   "metadata": {},
   "source": [
    "As the observed p-value is smaller than the significance level of 0.05, providing strong evidence to reject the null hypothesis in for the alternative."
   ]
  },
  {
   "cell_type": "markdown",
   "id": "ffa27e10",
   "metadata": {},
   "source": [
    "## Hypothesis 4\n",
    "There is no relationship between the gender of a student and their academic performance. \n",
    "\n",
    "Ho - There is no relationship between the gender of a student and their academic performance.\n",
    "\n",
    "Ha - There is a relationship between the gender of a student and their academic performance.\n",
    "\n",
    "A  new dichotomous feature representing whether a student failed or passed will be created and the average of all three scores will be determined. If the score is above 40, then we will consider the student as passed. As these are categorical variables, we will use the chi-square test of independence to test the significance between these two variables."
   ]
  },
  {
   "cell_type": "code",
   "execution_count": 17,
   "id": "81a73e3a",
   "metadata": {},
   "outputs": [
    {
     "data": {
      "text/html": [
       "<div>\n",
       "<style scoped>\n",
       "    .dataframe tbody tr th:only-of-type {\n",
       "        vertical-align: middle;\n",
       "    }\n",
       "\n",
       "    .dataframe tbody tr th {\n",
       "        vertical-align: top;\n",
       "    }\n",
       "\n",
       "    .dataframe thead th {\n",
       "        text-align: right;\n",
       "    }\n",
       "</style>\n",
       "<table border=\"1\" class=\"dataframe\">\n",
       "  <thead>\n",
       "    <tr style=\"text-align: right;\">\n",
       "      <th>pass_rate</th>\n",
       "      <th>Fail</th>\n",
       "      <th>Pass</th>\n",
       "      <th>All</th>\n",
       "    </tr>\n",
       "    <tr>\n",
       "      <th>gender</th>\n",
       "      <th></th>\n",
       "      <th></th>\n",
       "      <th></th>\n",
       "    </tr>\n",
       "  </thead>\n",
       "  <tbody>\n",
       "    <tr>\n",
       "      <th>female</th>\n",
       "      <td>16</td>\n",
       "      <td>502</td>\n",
       "      <td>518</td>\n",
       "    </tr>\n",
       "    <tr>\n",
       "      <th>male</th>\n",
       "      <td>14</td>\n",
       "      <td>468</td>\n",
       "      <td>482</td>\n",
       "    </tr>\n",
       "    <tr>\n",
       "      <th>All</th>\n",
       "      <td>30</td>\n",
       "      <td>970</td>\n",
       "      <td>1000</td>\n",
       "    </tr>\n",
       "  </tbody>\n",
       "</table>\n",
       "</div>"
      ],
      "text/plain": [
       "pass_rate  Fail  Pass   All\n",
       "gender                     \n",
       "female       16   502   518\n",
       "male         14   468   482\n",
       "All          30   970  1000"
      ]
     },
     "execution_count": 17,
     "metadata": {},
     "output_type": "execute_result"
    }
   ],
   "source": [
    "# Create a new feature representing whether student passed or not\n",
    "df['pass_rate'] = df['overall_performance'].apply(lambda i : 'Pass' if i >= 40 else 'Fail')\n",
    "# create a contingency table based on the two categorical variables for the chi-square test.\n",
    "contigency_table = pd.crosstab(df['gender'], df['pass_rate'], margins = True)\n",
    "contigency_table\n"
   ]
  },
  {
   "cell_type": "code",
   "execution_count": 15,
   "id": "dd6b16a6",
   "metadata": {},
   "outputs": [
    {
     "name": "stdout",
     "output_type": "stream",
     "text": [
      "P-Value for Chi Square Test is - 1.0\n"
     ]
    }
   ],
   "source": [
    "# extract data for students of both genders\n",
    "female_data = contigency_table.iloc[0, :].values[0 : 2].tolist()\n",
    "male_data = contigency_table.iloc[1, :].values[0 : 2].tolist()\n",
    "\n",
    "# apply chi-square test\n",
    "chi_square_test = chi2_contingency([female_data, male_data])\n",
    "print(f\"P-Value for Chi Square Test is - {chi_square_test[1]}\")\n"
   ]
  },
  {
   "cell_type": "markdown",
   "id": "bbd1bb49",
   "metadata": {},
   "source": [
    "Since our observed p-value is less than the significance level, then we can’t reject our null hypothesis.\n"
   ]
  },
  {
   "cell_type": "code",
   "execution_count": null,
   "id": "a1748654",
   "metadata": {},
   "outputs": [],
   "source": []
  }
 ],
 "metadata": {
  "kernelspec": {
   "display_name": "Python 3 (ipykernel)",
   "language": "python",
   "name": "python3"
  },
  "language_info": {
   "codemirror_mode": {
    "name": "ipython",
    "version": 3
   },
   "file_extension": ".py",
   "mimetype": "text/x-python",
   "name": "python",
   "nbconvert_exporter": "python",
   "pygments_lexer": "ipython3",
   "version": "3.10.9"
  }
 },
 "nbformat": 4,
 "nbformat_minor": 5
}
